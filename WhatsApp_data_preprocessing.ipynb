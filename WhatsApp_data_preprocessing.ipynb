{
  "nbformat": 4,
  "nbformat_minor": 0,
  "metadata": {
    "colab": {
      "name": "WhatsApp_data_preprocessing.ipynb",
      "provenance": [],
      "collapsed_sections": [],
      "toc_visible": true
    },
    "kernelspec": {
      "name": "python3",
      "display_name": "Python 3"
    }
  },
  "cells": [
    {
      "cell_type": "code",
      "metadata": {
        "id": "hhA_ctQHv85G",
        "colab_type": "code",
        "colab": {}
      },
      "source": [
        "import pandas as pd"
      ],
      "execution_count": 0,
      "outputs": []
    },
    {
      "cell_type": "code",
      "metadata": {
        "id": "R41xHOUYxQSA",
        "colab_type": "code",
        "outputId": "1eeaf446-9a1b-47f7-9e2e-449c4b72637a",
        "colab": {
          "base_uri": "https://localhost:8080/",
          "height": 70
        }
      },
      "source": [
        "import csv\n",
        "data = pd.read_csv('msg.csv')"
      ],
      "execution_count": 0,
      "outputs": [
        {
          "output_type": "stream",
          "text": [
            "/usr/local/lib/python3.6/dist-packages/IPython/core/interactiveshell.py:2718: DtypeWarning: Columns (9,10,11,14,16,18,26,28,30,31,36,38,40,41,46,48,50,51,56,58,60,61,66,68,70,71,73,74,76,78,80,81,83,84,86,88,96,98,100,101,104,106,108,110,113,114,116,118,120,121,126,128,130,131,133,134,136,138,140,143,144,146,148,150,151,156,158,160,161,166,168,170,171,176,178,180,181,186,188,196,198,206,208,210,211,216,218,226,228,236,238,240,241,246,248,250,251,256,258,260,261,266,268,270,271,276,278,280,281,284,286,288,290,291,296,298,300,301,306,308,316,318,326,328,336,338,340,341,346,348,350,351,356,358,360,361,366,368,370,371,376,378,380,381,386,388,390,391,396,398,400,401,406,408,410,411,416,418,420,421,424,426,428,430,431,436,438,440,441,446,448,450,453,454,456) have mixed types. Specify dtype option on import or set low_memory=False.\n",
            "  interactivity=interactivity, compiler=compiler, result=result)\n"
          ],
          "name": "stderr"
        }
      ]
    },
    {
      "cell_type": "code",
      "metadata": {
        "id": "2OROxQRn1kIk",
        "colab_type": "code",
        "colab": {}
      },
      "source": [
        "df=pd.DataFrame()"
      ],
      "execution_count": 0,
      "outputs": []
    },
    {
      "cell_type": "code",
      "metadata": {
        "id": "50d5Tf6e2QCR",
        "colab_type": "code",
        "outputId": "1a221593-4f3a-4f8e-fb09-f7fb3ee2b38f",
        "colab": {
          "base_uri": "https://localhost:8080/",
          "height": 151
        }
      },
      "source": [
        "data.shape\n",
        "print(data.columns)"
      ],
      "execution_count": 0,
      "outputs": [
        {
          "output_type": "stream",
          "text": [
            "Index(['group creator', 'timestamp', 'media_url', 'media_mime_type',\n",
            "       'media_name', 'media_caption', 'sender', 'Unnamed: 7', 'Unnamed: 8',\n",
            "       'Unnamed: 9',\n",
            "       ...\n",
            "       'Unnamed: 449', 'Unnamed: 450', 'Unnamed: 451', 'Unnamed: 452',\n",
            "       'Unnamed: 453', 'Unnamed: 454', 'Unnamed: 455', 'Unnamed: 456',\n",
            "       'Unnamed: 457', 'Unnamed: 458'],\n",
            "      dtype='object', length=459)\n"
          ],
          "name": "stdout"
        }
      ]
    },
    {
      "cell_type": "markdown",
      "metadata": {
        "id": "FC_ubIIkoUWg",
        "colab_type": "text"
      },
      "source": [
        "## Remove sentence which has less than 5 length"
      ]
    },
    {
      "cell_type": "code",
      "metadata": {
        "id": "5lEZ_p1ulwI7",
        "colab_type": "code",
        "colab": {}
      },
      "source": [
        "new=[]\n",
        "for i in data[0]:\n",
        "  if(len(i)>5):\n",
        "    new.append(i)\n",
        "  "
      ],
      "execution_count": 0,
      "outputs": []
    },
    {
      "cell_type": "markdown",
      "metadata": {
        "id": "71KD_onPo4GV",
        "colab_type": "text"
      },
      "source": [
        "## Remove Emojis if exits and also remove sentence which has less than 5 length"
      ]
    },
    {
      "cell_type": "code",
      "metadata": {
        "id": "EKsenYc-nyqY",
        "colab_type": "code",
        "colab": {}
      },
      "source": [
        "import re\n",
        "\n",
        "RE_EMOJI = re.compile(\"[\"\n",
        "                u\"\\U0001F600-\\U0001F64F\"  # emoticons\n",
        "                u\"\\U0001F300-\\U0001F5FF\"  # symbols & pictographs\n",
        "                u\"\\U0001F680-\\U0001F6FF\"  # transport & map symbols\n",
        "                u\"\\U0001F1E0-\\U0001F1FF\"  # flags (iOS)\n",
        "                u\"\\U00002702-\\U000027B0\"\n",
        "                u\"\\U000024C2-\\U0001F251\"\n",
        "                u\"\\U0001f926-\\U0001f937\"\n",
        "                u'\\U00010000-\\U0010ffff'\n",
        "                u\"\\u200d\"\n",
        "                u\"\\u2640-\\u2642\"\n",
        "                u\"\\u2600-\\u2B55\"\n",
        "                u\"\\u23cf\"\n",
        "                u\"\\u23e9\"\n",
        "                u\"\\u231a\"\n",
        "                u\"\\u3030\"\n",
        "                u\"\\ufe0f\"\n",
        "                           \"]+\", flags=re.UNICODE)\n",
        "def strip_emoji(text):\n",
        "    return RE_EMOJI.sub(r'', text)\n",
        "\n",
        "\n",
        "s_new=[]\n",
        "for i in new:\n",
        "  s=strip_emoji(i)\n",
        "  if (len(s)>5):\n",
        "    s_new.append(s)\n",
        "    "
      ],
      "execution_count": 0,
      "outputs": []
    },
    {
      "cell_type": "markdown",
      "metadata": {
        "id": "dnZbtB3Nva9C",
        "colab_type": "text"
      },
      "source": [
        "##  Remove all https"
      ]
    },
    {
      "cell_type": "code",
      "metadata": {
        "id": "tkOnnsAwpS6f",
        "colab_type": "code",
        "colab": {}
      },
      "source": [
        "def remove_http(text):\n",
        "    text = re.sub(r'https?://\\S+', '', text, flags=re.MULTILINE)\n",
        "    return text\n",
        "  \n",
        "C_new=[]\n",
        "for i in s_new:\n",
        "  s=remove_http(i)\n",
        "  if(len(s)>5):\n",
        "    C_new.append(s)\n",
        "  "
      ],
      "execution_count": 0,
      "outputs": []
    },
    {
      "cell_type": "code",
      "metadata": {
        "id": "IwSRyNdjwYFI",
        "colab_type": "code",
        "outputId": "52620e75-6de4-47e7-d21a-24f72cface2d",
        "colab": {
          "base_uri": "https://localhost:8080/",
          "height": 34
        }
      },
      "source": [
        "len(C_new),len(s_new)"
      ],
      "execution_count": 0,
      "outputs": [
        {
          "output_type": "execute_result",
          "data": {
            "text/plain": [
              "(436335, 538029)"
            ]
          },
          "metadata": {
            "tags": []
          },
          "execution_count": 27
        }
      ]
    },
    {
      "cell_type": "markdown",
      "metadata": {
        "id": "7zYmzW3dwd0x",
        "colab_type": "text"
      },
      "source": [
        ""
      ]
    },
    {
      "cell_type": "markdown",
      "metadata": {
        "id": "tpe64RB0Gq16",
        "colab_type": "text"
      },
      "source": [
        "## Segregate Hindi and English"
      ]
    },
    {
      "cell_type": "code",
      "metadata": {
        "id": "dNmGWm2M169e",
        "colab_type": "code",
        "colab": {}
      },
      "source": [
        "def detect_language(character):\n",
        "  H=0\n",
        "  E=0\n",
        "  for i in character:\n",
        "    if u'\\u0900' <= i <= u'\\u097f':\n",
        "      H=H+1\n",
        "    else:\n",
        "      E=E+1\n",
        "      \n",
        "  if H>E:\n",
        "    return 'hindi'\n",
        "  else:\n",
        "    return 'EN'"
      ],
      "execution_count": 0,
      "outputs": []
    },
    {
      "cell_type": "code",
      "metadata": {
        "id": "9tx945us3eI1",
        "colab_type": "code",
        "colab": {}
      },
      "source": [
        "      \n",
        "import csv\n",
        "import codecs,string\n",
        "\n",
        "  \n",
        "hindi =[]\n",
        "English=[]\n",
        "for i in C_new:\n",
        "  isEng = detect_language(strip_emoji(i))\n",
        "  if isEng == \"hindi\":\n",
        "    hindi.append(i)\n",
        "  else:\n",
        "    English.append(i)\n",
        "\n",
        "row = ['Sentence']\n",
        "with open('Hindi_data.csv', 'w') as csvFile:\n",
        "  writer = csv.writer(csvFile)\n",
        "  writer.writerow(row)\n",
        "csvFile.close()\n",
        "f=pd.DataFrame(columns=['Sentence'])\n",
        "f['Sentence']=hindi\n",
        "with open('Hindi_data.csv', 'w') as writer:\n",
        "    f.to_csv(writer,index=False)\n",
        "    \n",
        "row = ['Sentence']\n",
        "with open('English_data.csv', 'w') as csvFile:\n",
        "  writer = csv.writer(csvFile)\n",
        "  writer.writerow(row)\n",
        "csvFile.close()\n",
        "f=pd.DataFrame(columns=['Sentence'])\n",
        "f['Sentence']=English\n",
        "with open('English_data.csv', 'w') as writer:\n",
        "    f.to_csv(writer,index=False)"
      ],
      "execution_count": 0,
      "outputs": []
    },
    { "cell_type": "code",
      "metadata": {
        "id": "gU0_gxSGxB3m",
        "colab_type": "code",
        "colab": {}
      },
      "source": [
        ""
      ],
      "execution_count": 0,
      "outputs": []
    },
    {
      "cell_type": "code",
      "metadata": {
        "id": "gbSdttVedbV0",
        "colab_type": "code",
        "colab": {}
      },
      "source": [
        "Hi_df=pd.read_csv('Hindi_data.csv')\n",
        "En_df=pd.read_csv('English_data.csv')"
      ],
      "execution_count": 0,
      "outputs": []
    },
    {
      "cell_type": "code",
      "metadata": {
        "id": "8mdQI8AhxpTA",
        "colab_type": "code",
        "colab": {}
      },
      "source": [
        "sd=En_df['Sentence']"
      ],
      "execution_count": 0,
      "outputs": []
    },
    {
      "cell_type": "code",
      "metadata": {
        "id": "vDwHqMPvzng0",
        "colab_type": "code",
        "outputId": "cc7e1e6f-e4a2-43bb-c2e3-7ebe7ebaf881",
        "colab": {
          "base_uri": "https://localhost:8080/",
          "height": 1000
        }
      },
      "source": [
        "sd"
      ],
      "execution_count": 0,
      "outputs": [
        {
          "output_type": "execute_result",
          "data": {
            "text/plain": [
              "0                                          data,media_url\n",
              "1                          bhagwa-watsapp.com/?n=Soniya\",\n",
              "2                                     *R :- Rahul Gandhi*\n",
              "3                                   *A :- akhilesh yadav*\n",
              "4                                         *M :- mayavati*\n",
              "5                                            *N :- Naydu*\n",
              "6                                  *A :- Arvind kejriwal*\n",
              "7                                   *M :- Mamta Banarjee*\n",
              "8                                     *S :- Sharad pawar*\n",
              "9                                       *A :- Ajit Singh*\n",
              "10                                   *T :- Tejaswi Yadav*\n",
              "11                                         *Y :- Yechury*\n",
              "12                                 *A :- Assudeen Owaisi*\n",
              "13                            *दूत पर UttarPradesh News:*\n",
              "14              *आपके ग्रुप में add कीजिये +917338971611*\n",
              "15                       \".                              \n",
              "16                                     #Namo Again 2019\",\n",
              "17                                     #Namo_Again_2019\",\n",
              "18                                     #Namo_Again_2019\",\n",
              "19                                     #Namo_Again_2019\",\n",
              "20                                     #Namo_Again_2019\",\n",
              "21           Follow this link to join my WhatsApp group: \n",
              "22                                                Jai ho,\n",
              "23           Follow this link to join my WhatsApp group: \n",
              "24                             look-me.club/?n=Sakshi..\",\n",
              "25                           socialpower.club/?n=soniya\",\n",
              "26           Follow this link to join my WhatsApp group: \n",
              "27           Follow this link to join my WhatsApp group: \n",
              "28              *please like and subscribe the channel*\",\n",
              "29                           indianstyle.club/?n=Sakshi\",\n",
              "                               ...                       \n",
              "115110                                ​1⃣ Level.Rs 30.00​\n",
              "115111                               ​2⃣ Level.Rs 100.00​\n",
              "115112                               ​3⃣ Level.Rs 375.00​\n",
              "115113                              ​4⃣ Level.Rs 1250.00​\n",
              "115114                              ​5⃣ Level.Rs 3125.00​\n",
              "115115                              ​6⃣ Level.Rs 9375.00​\n",
              "115116                             ​7⃣ Level.Rs 31250.00​\n",
              "115117                            ​8⃣ Level.Rs 117187.00​\n",
              "115118                            ​9⃣ Level.Rs 390625.00​\n",
              "115119                               ​ Level.Rs 93652600​\n",
              "115120                               √ Daily payout इनकम।\n",
              "115121                                      No Investment\n",
              "115122                                            No Task\n",
              "115123                                       No Challenge\n",
              "115124                                           No Click\n",
              "115125                                    No Apps Install\n",
              "115126                                 No Captcha Writing\n",
              "115127                                  No Vedio Watching\n",
              "115128                           2⃣ Par Day रिडीम लगाएं‌।\n",
              "115129                              (Mini Redeem :- ₹100)\n",
              "115130                                     PAYOUT RECEIVE\n",
              "115131                                           1. Paytm\n",
              "115132                                  2.Google pey(Tez)\n",
              "115133                                           App link\n",
              "115134                                Refer code - 284306\n",
              "115135                                Refer code - 284306\n",
              "115136     Refer code - 284306Refer code - 284306284306\",\n",
              "115137                                   . @DelhiJalBoard\n",
              "115138        उस मोदी जी को Divider in Chief कह रहे हो ??\n",
              "115139                   Or tu bhi vinayak chutiya hai।।,\n",
              "Name: Sentence, Length: 115140, dtype: object"
            ]
          },
          "metadata": {
            "tags": []
          },
          "execution_count": 32
        }
      ]
    }
  ]
}
